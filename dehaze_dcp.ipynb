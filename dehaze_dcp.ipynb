{
  "nbformat": 4,
  "nbformat_minor": 0,
  "metadata": {
    "colab": {
      "name": "dehaze_dcp.ipynb",
      "provenance": [],
      "collapsed_sections": [],
      "mount_file_id": "1m8LhYC9vE3zZ3CKBPj8AgihDjYAdsh-y",
      "authorship_tag": "ABX9TyO40xRYnfHydSEJNEjsc/cU",
      "include_colab_link": true
    },
    "kernelspec": {
      "name": "python3",
      "display_name": "Python 3"
    },
    "language_info": {
      "name": "python"
    }
  },
  "cells": [
    {
      "cell_type": "markdown",
      "metadata": {
        "id": "view-in-github",
        "colab_type": "text"
      },
      "source": [
        "<a href=\"https://colab.research.google.com/github/lelouch0204/sonar-to-satellite-translation/blob/main/dehaze_dcp.ipynb\" target=\"_parent\"><img src=\"https://colab.research.google.com/assets/colab-badge.svg\" alt=\"Open In Colab\"/></a>"
      ]
    },
    {
      "cell_type": "code",
      "execution_count": null,
      "metadata": {
        "colab": {
          "base_uri": "https://localhost:8080/"
        },
        "id": "RurU2jK8-_MX",
        "outputId": "9b08f17e-2cb1-4496-8a9c-1144d1aadce5"
      },
      "outputs": [
        {
          "output_type": "stream",
          "name": "stdout",
          "text": [
            "Cloning into 'image_dehaze'...\n",
            "remote: Enumerating objects: 39, done.\u001b[K\n",
            "remote: Counting objects: 100% (9/9), done.\u001b[K\n",
            "remote: Compressing objects: 100% (7/7), done.\u001b[K\n",
            "remote: Total 39 (delta 4), reused 6 (delta 2), pack-reused 30\u001b[K\n",
            "Unpacking objects: 100% (39/39), done.\n"
          ]
        }
      ],
      "source": [
        "!git clone https://github.com/lelouch0204/image_dehaze.git"
      ]
    },
    {
      "cell_type": "code",
      "source": [
        "import os \n",
        "\n",
        "os.chdir('/content/image_dehaze')"
      ],
      "metadata": {
        "id": "VkHS001f_K1X"
      },
      "execution_count": null,
      "outputs": []
    },
    {
      "cell_type": "code",
      "source": [
        "from google.colab import drive\n",
        "drive.mount('/content/drive')"
      ],
      "metadata": {
        "colab": {
          "base_uri": "https://localhost:8080/"
        },
        "id": "7cdYs8NMyeVI",
        "outputId": "705f0f7f-b394-409d-b7f2-526b21cf5d52"
      },
      "execution_count": null,
      "outputs": [
        {
          "output_type": "stream",
          "name": "stdout",
          "text": [
            "Drive already mounted at /content/drive; to attempt to forcibly remount, call drive.mount(\"/content/drive\", force_remount=True).\n"
          ]
        }
      ]
    },
    {
      "cell_type": "code",
      "source": [
        "%matplotlib inline\n",
        "from google.colab.patches import cv2_imshow"
      ],
      "metadata": {
        "id": "2fGw7SlvCn9c"
      },
      "execution_count": null,
      "outputs": []
    },
    {
      "cell_type": "code",
      "source": [
        "!python dehaze.py '/content/drive/MyDrive/Image Dehazing for Video surveillance/executions/norm_ims/' '/content/drive/MyDrive/Image Dehazing for Video surveillance/executions/experiment_100_1/norm_dcp_dehaze/' 15"
      ],
      "metadata": {
        "id": "hQorKPQ_Biy0"
      },
      "execution_count": null,
      "outputs": []
    },
    {
      "cell_type": "code",
      "source": [
        "dcp_dir = '/content/drive/MyDrive/Image Dehazing for Video surveillance/Experiments_2/dcp_dehaze/'\n",
        "\n",
        "for im_files in os.listdir(dcp_dir):\n",
        "    if 'png_dehaze' in im_files:\n",
        "        temp = dcp_dir + im_files\n",
        "        os.remove(temp)"
      ],
      "metadata": {
        "id": "qcHQOVogB4g_"
      },
      "execution_count": null,
      "outputs": []
    },
    {
      "cell_type": "code",
      "source": [
        "!rm -rf '/content/drive/MyDrive/Image Dehazing for Video surveillance/executions/experiment_100_1/norm_dcp_dehaze'\n",
        "!mkdir '/content/drive/MyDrive/Image Dehazing for Video surveillance/executions/experiment_100_1/norm_dcp_dehaze'"
      ],
      "metadata": {
        "id": "78es5dkjGels"
      },
      "execution_count": null,
      "outputs": []
    },
    {
      "cell_type": "code",
      "source": [
        ""
      ],
      "metadata": {
        "id": "lJqXivOo6tY-"
      },
      "execution_count": null,
      "outputs": []
    },
    {
      "cell_type": "code",
      "source": [
        ""
      ],
      "metadata": {
        "id": "KB9bcZ926gbb"
      },
      "execution_count": null,
      "outputs": []
    }
  ]
}
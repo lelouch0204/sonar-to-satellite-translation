{
  "nbformat": 4,
  "nbformat_minor": 0,
  "metadata": {
    "colab": {
      "name": "calc_metrics.ipynb",
      "provenance": [],
      "collapsed_sections": [],
      "mount_file_id": "1XH-mUN2cz72xTqaJ7iLp3PZAZkcK0kvi",
      "authorship_tag": "ABX9TyPd3J2MNcpvpJREas2IGjKM",
      "include_colab_link": true
    },
    "kernelspec": {
      "name": "python3",
      "display_name": "Python 3"
    },
    "language_info": {
      "name": "python"
    }
  },
  "cells": [
    {
      "cell_type": "markdown",
      "metadata": {
        "id": "view-in-github",
        "colab_type": "text"
      },
      "source": [
        "<a href=\"https://colab.research.google.com/github/lelouch0204/sonar-to-satellite-translation/blob/main/calc_metrics.ipynb\" target=\"_parent\"><img src=\"https://colab.research.google.com/assets/colab-badge.svg\" alt=\"Open In Colab\"/></a>"
      ]
    },
    {
      "cell_type": "code",
      "source": [
        "!pip install pytorch-fid"
      ],
      "metadata": {
        "id": "buncVpdi4qhM"
      },
      "execution_count": null,
      "outputs": []
    },
    {
      "cell_type": "code",
      "execution_count": null,
      "metadata": {
        "id": "yyyV8NVp-Yj1"
      },
      "outputs": [],
      "source": [
        "import os\n",
        "import numpy as np\n",
        "import cv2\n",
        "import matplotlib.pyplot as plt\n",
        "import math\n",
        "import pandas as pd\n",
        "from skimage.metrics import peak_signal_noise_ratio, structural_similarity\n",
        "from math import log10, sqrt\n",
        "import pytorch_fid"
      ]
    },
    {
      "cell_type": "code",
      "source": [
        "def read_image(img_path):\n",
        "    img = cv2.imread(img_path)\n",
        "    return img"
      ],
      "metadata": {
        "id": "mn9Bg9okAavb"
      },
      "execution_count": null,
      "outputs": []
    },
    {
      "cell_type": "code",
      "source": [
        "def calc_psnr(target_path, gt_path):\n",
        "    target_img = read_image(target_path)\n",
        "    gt_img = read_image(gt_path)\n",
        "    psnr = peak_signal_noise_ratio(gt_img, target_img)\n",
        "    return psnr"
      ],
      "metadata": {
        "id": "L6Hwg9b--iY-"
      },
      "execution_count": null,
      "outputs": []
    },
    {
      "cell_type": "code",
      "source": [
        "def calc_psnr(target_path, gt_path):\n",
        "    target_img = read_image(target_path)\n",
        "    gt_img = read_image(gt_path)\n",
        "    mse = np.mean((gt_img - target_img)**2)\n",
        "    if mse == 0:\n",
        "        return 100\n",
        "    max_pixel = 255.0\n",
        "    psnr = 20 * (max_pixel/sqrt(mse))\n",
        "    return psnr"
      ],
      "metadata": {
        "id": "dWRIdrF_sj9W"
      },
      "execution_count": null,
      "outputs": []
    },
    {
      "cell_type": "code",
      "source": [
        "def calc_ssim(target_path, gt_path):\n",
        "    target_img = read_image(target_path)\n",
        "    gt_img = read_image(gt_path)\n",
        "    ssim = structural_similarity(gt_img, target_img, multichannel=True)\n",
        "    return ssim"
      ],
      "metadata": {
        "id": "F9WNr2DbF5sH"
      },
      "execution_count": null,
      "outputs": []
    },
    {
      "cell_type": "code",
      "source": [
        "root_dir = '/content/drive/MyDrive/Image Dehazing for Video surveillance/executions/experiment_100_1/'\n",
        "exec_dir = '/content/drive/MyDrive/Image Dehazing for Video surveillance/executions/'\n",
        "targ_dir = root_dir + 'results/'\n",
        "norm_targ_dir = exec_dir + 'norm_ims/'\n",
        "gimp_targ_dir = exec_dir + 'gimp_ims/'\n",
        "dcp_targ_dir = root_dir + 'dcp_dehaze/'\n",
        "gt_dir = '/content/drive/MyDrive/Image Dehazing for Video surveillance/dataset/test/gt/'"
      ],
      "metadata": {
        "id": "CiXCWl7HJHrj"
      },
      "execution_count": null,
      "outputs": []
    },
    {
      "cell_type": "code",
      "source": [
        "targ_files = sorted(os.listdir(targ_dir))\n",
        "gt_files = sorted(os.listdir(gt_dir))\n",
        "targ_files = [targ_dir + x for x in targ_files]\n",
        "gt_files = [gt_dir + x for x in gt_files]\n",
        "\n",
        "norm_targ_files = sorted(os.listdir(norm_targ_dir))\n",
        "norm_targ_files = [norm_targ_dir + x for x in norm_targ_files]\n",
        "\n",
        "gimp_targ_files = sorted(os.listdir(gimp_targ_dir))\n",
        "gimp_targ_files = [gimp_targ_dir + x for x in gimp_targ_files]\n",
        "\n",
        "dcp_targ_files = sorted(os.listdir(dcp_targ_dir))\n",
        "dcp_targ_files = [dcp_targ_dir + x for x in dcp_targ_files]\n",
        "\n",
        "print(len(targ_files), len(gt_files))"
      ],
      "metadata": {
        "colab": {
          "base_uri": "https://localhost:8080/"
        },
        "id": "ShuxFl82JmwD",
        "outputId": "8ff78c63-44f4-4518-cc3b-0926d7ee73c4"
      },
      "execution_count": null,
      "outputs": [
        {
          "output_type": "stream",
          "name": "stdout",
          "text": [
            "289 289\n"
          ]
        }
      ]
    },
    {
      "cell_type": "code",
      "source": [
        "methods = [\"Giacomo et. al\", \"With DCP Dehaze\", \"With Linear Contrast enhancement\", \"With GIMP Contrast enhancement\"]\n",
        "targ_paths = [targ_files, dcp_targ_files, norm_targ_files, gimp_targ_files]\n",
        "psnrs = []\n",
        "ssims = []"
      ],
      "metadata": {
        "id": "tR0xJ-abILoR"
      },
      "execution_count": null,
      "outputs": []
    },
    {
      "cell_type": "code",
      "source": [
        "def calc_metrics(gt_files, targ_files): \n",
        "    psnrs = []\n",
        "    ssims = []\n",
        "\n",
        "    for (gt_path, targ_path) in zip(gt_files, targ_files):\n",
        "        psnrs.append(calc_psnr(targ_path, gt_path))\n",
        "        ssims.append(calc_ssim(targ_path, gt_path))\n",
        "\n",
        "    psnr = sum(psnrs) / len(psnrs)\n",
        "    ssim = sum(ssims) / len(ssims)\n",
        "\n",
        "    return psnr, ssim"
      ],
      "metadata": {
        "id": "-JeG4_wCKZCH"
      },
      "execution_count": null,
      "outputs": []
    },
    {
      "cell_type": "code",
      "source": [
        "psnr, ssim = calc_metrics(gt_files, targ_files)"
      ],
      "metadata": {
        "colab": {
          "base_uri": "https://localhost:8080/"
        },
        "id": "OUmrrynqLElD",
        "outputId": "5033070b-8df2-4449-a170-0a2c7955c762"
      },
      "execution_count": null,
      "outputs": [
        {
          "output_type": "stream",
          "name": "stdout",
          "text": [
            "\n"
          ]
        }
      ]
    },
    {
      "cell_type": "code",
      "source": [
        "\n",
        "print(\"PSNR is \", psnr)\n",
        "print(\"SSIM is \", ssim)"
      ],
      "metadata": {
        "id": "VmIKXwuVMMVB",
        "colab": {
          "base_uri": "https://localhost:8080/"
        },
        "outputId": "84556887-9803-4080-f4ef-2e6895f7d8ae"
      },
      "execution_count": null,
      "outputs": [
        {
          "output_type": "stream",
          "name": "stdout",
          "text": [
            "PSNR is  31.767096103462453\n",
            "SSIM is  0.9148206245565047\n"
          ]
        }
      ]
    },
    {
      "cell_type": "code",
      "source": [
        "for targ_path in targ_paths: \n",
        "    psnr, ssim = calc_metrics(gt_files, targ_path)\n",
        "    psnrs.append(psnr)\n",
        "    ssims.append(ssim)"
      ],
      "metadata": {
        "id": "R2PqD2Y7Ltwb"
      },
      "execution_count": null,
      "outputs": []
    },
    {
      "cell_type": "code",
      "source": [
        "print(psnrs)\n",
        "print(ssims)"
      ],
      "metadata": {
        "colab": {
          "base_uri": "https://localhost:8080/"
        },
        "id": "kuX-cbFm9PO1",
        "outputId": "ef3a37b3-3163-4c62-b6ce-406dd1ec35d2"
      },
      "execution_count": null,
      "outputs": [
        {
          "output_type": "stream",
          "name": "stdout",
          "text": [
            "[31.767096103462453, 24.314113846280343, 28.013486817879755, 25.284639429143613]\n",
            "[0.9148206245565047, 0.805858692604287, 0.8929862015075668, 0.8907184982148268]\n"
          ]
        }
      ]
    },
    {
      "cell_type": "code",
      "source": [
        "!python -m pytorch_fid '/content/drive/MyDrive/Image Dehazing for Video surveillance/dataset/test/gt' '/content/drive/MyDrive/Image Dehazing for Video surveillance/executions/experiment_100_1/dcp_dehaze'"
      ],
      "metadata": {
        "id": "W8b_BQHd-3X-",
        "colab": {
          "base_uri": "https://localhost:8080/"
        },
        "outputId": "03e32b05-4640-45a6-8ed8-29eec39652ac"
      },
      "execution_count": null,
      "outputs": [
        {
          "output_type": "stream",
          "name": "stdout",
          "text": [
            "100% 6/6 [01:34<00:00, 15.73s/it]\n",
            "100% 6/6 [01:37<00:00, 16.31s/it]\n",
            "FID:  106.12775816530386\n"
          ]
        }
      ]
    },
    {
      "cell_type": "code",
      "source": [
        ""
      ],
      "metadata": {
        "id": "aKy6RdeM5m7-"
      },
      "execution_count": null,
      "outputs": []
    }
  ]
}
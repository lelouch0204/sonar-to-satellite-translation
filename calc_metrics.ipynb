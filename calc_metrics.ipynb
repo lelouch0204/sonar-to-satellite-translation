{
  "nbformat": 4,
  "nbformat_minor": 0,
  "metadata": {
    "colab": {
      "name": "calc_metrics.ipynb",
      "provenance": [],
      "mount_file_id": "1XH-mUN2cz72xTqaJ7iLp3PZAZkcK0kvi",
      "authorship_tag": "ABX9TyMhPmMSQkNnrQRPdmMYZVzO",
      "include_colab_link": true
    },
    "kernelspec": {
      "name": "python3",
      "display_name": "Python 3"
    },
    "language_info": {
      "name": "python"
    }
  },
  "cells": [
    {
      "cell_type": "markdown",
      "metadata": {
        "id": "view-in-github",
        "colab_type": "text"
      },
      "source": [
        "<a href=\"https://colab.research.google.com/github/lelouch0204/sonar-to-satellite-translation/blob/main/calc_metrics.ipynb\" target=\"_parent\"><img src=\"https://colab.research.google.com/assets/colab-badge.svg\" alt=\"Open In Colab\"/></a>"
      ]
    },
    {
      "cell_type": "code",
      "source": [
        "!pip install pytorch-fid"
      ],
      "metadata": {
        "colab": {
          "base_uri": "https://localhost:8080/"
        },
        "id": "buncVpdi4qhM",
        "outputId": "4ce60c38-2d2b-41f8-bb3f-e674961b0a2d"
      },
      "execution_count": null,
      "outputs": [
        {
          "output_type": "stream",
          "name": "stdout",
          "text": [
            "Collecting pytorch-fid\n",
            "  Downloading pytorch-fid-0.2.1.tar.gz (14 kB)\n",
            "Requirement already satisfied: numpy in /usr/local/lib/python3.7/dist-packages (from pytorch-fid) (1.21.6)\n",
            "Requirement already satisfied: pillow in /usr/local/lib/python3.7/dist-packages (from pytorch-fid) (7.1.2)\n",
            "Requirement already satisfied: scipy in /usr/local/lib/python3.7/dist-packages (from pytorch-fid) (1.4.1)\n",
            "Requirement already satisfied: torch>=1.0.1 in /usr/local/lib/python3.7/dist-packages (from pytorch-fid) (1.11.0+cu113)\n",
            "Requirement already satisfied: torchvision>=0.2.2 in /usr/local/lib/python3.7/dist-packages (from pytorch-fid) (0.12.0+cu113)\n",
            "Requirement already satisfied: typing-extensions in /usr/local/lib/python3.7/dist-packages (from torch>=1.0.1->pytorch-fid) (4.2.0)\n",
            "Requirement already satisfied: requests in /usr/local/lib/python3.7/dist-packages (from torchvision>=0.2.2->pytorch-fid) (2.23.0)\n",
            "Requirement already satisfied: urllib3!=1.25.0,!=1.25.1,<1.26,>=1.21.1 in /usr/local/lib/python3.7/dist-packages (from requests->torchvision>=0.2.2->pytorch-fid) (1.24.3)\n",
            "Requirement already satisfied: chardet<4,>=3.0.2 in /usr/local/lib/python3.7/dist-packages (from requests->torchvision>=0.2.2->pytorch-fid) (3.0.4)\n",
            "Requirement already satisfied: idna<3,>=2.5 in /usr/local/lib/python3.7/dist-packages (from requests->torchvision>=0.2.2->pytorch-fid) (2.10)\n",
            "Requirement already satisfied: certifi>=2017.4.17 in /usr/local/lib/python3.7/dist-packages (from requests->torchvision>=0.2.2->pytorch-fid) (2021.10.8)\n",
            "Building wheels for collected packages: pytorch-fid\n",
            "  Building wheel for pytorch-fid (setup.py) ... \u001b[?25l\u001b[?25hdone\n",
            "  Created wheel for pytorch-fid: filename=pytorch_fid-0.2.1-py3-none-any.whl size=14835 sha256=e4ed9807ccf8c021ee3a9ccc7911bc76b0b019ee6e4318af8ad80db07bed6342\n",
            "  Stored in directory: /root/.cache/pip/wheels/24/ac/03/c5634775c8a64f702343ef5923278f8d3bb8c651debc4a6890\n",
            "Successfully built pytorch-fid\n",
            "Installing collected packages: pytorch-fid\n",
            "Successfully installed pytorch-fid-0.2.1\n"
          ]
        }
      ]
    },
    {
      "cell_type": "code",
      "execution_count": null,
      "metadata": {
        "id": "yyyV8NVp-Yj1"
      },
      "outputs": [],
      "source": [
        "import os\n",
        "import numpy as np\n",
        "import cv2\n",
        "import matplotlib.pyplot as plt\n",
        "import math\n",
        "import pandas as pd\n",
        "from skimage.metrics import peak_signal_noise_ratio, structural_similarity\n",
        "from math import log10, sqrt\n",
        "import pytorch_fid"
      ]
    },
    {
      "cell_type": "code",
      "source": [
        "def read_image(img_path):\n",
        "    img = cv2.imread(img_path)\n",
        "    return img"
      ],
      "metadata": {
        "id": "mn9Bg9okAavb"
      },
      "execution_count": null,
      "outputs": []
    },
    {
      "cell_type": "code",
      "source": [
        "def calc_psnr(target_path, gt_path):\n",
        "    target_img = read_image(target_path)\n",
        "    gt_img = read_image(gt_path)\n",
        "    psnr = peak_signal_noise_ratio(gt_img, target_img)\n",
        "    return psnr"
      ],
      "metadata": {
        "id": "L6Hwg9b--iY-"
      },
      "execution_count": null,
      "outputs": []
    },
    {
      "cell_type": "code",
      "source": [
        "def calc_psnr(target_path, gt_path):\n",
        "    target_img = read_image(target_path)\n",
        "    gt_img = read_image(gt_path)\n",
        "    mse = np.mean((gt_img - target_img)**2)\n",
        "    if mse == 0:\n",
        "        return 100\n",
        "    max_pixel = 255.0\n",
        "    psnr = 20 * (max_pixel/sqrt(mse))\n",
        "    return psnr"
      ],
      "metadata": {
        "id": "dWRIdrF_sj9W"
      },
      "execution_count": null,
      "outputs": []
    },
    {
      "cell_type": "code",
      "source": [
        "def calc_ssim(target_path, gt_path):\n",
        "    target_img = read_image(target_path)\n",
        "    gt_img = read_image(gt_path)\n",
        "    ssim = structural_similarity(gt_img, target_img, multichannel=True)\n",
        "    return ssim"
      ],
      "metadata": {
        "id": "F9WNr2DbF5sH"
      },
      "execution_count": null,
      "outputs": []
    },
    {
      "cell_type": "code",
      "source": [
        "root_dir = '/content/drive/MyDrive/Image Dehazing for Video surveillance/executions/experiment_100_1/'\n",
        "exec_dir = '/content/drive/MyDrive/Image Dehazing for Video surveillance/executions/'\n",
        "targ_dir = root_dir + 'results/'\n",
        "norm_targ_dir = exec_dir + 'norm_ims/'\n",
        "gimp_targ_dir = exec_dir + 'gimp_ims/'\n",
        "dcp_targ_dir = root_dir + 'dcp_dehaze/'\n",
        "gt_dir = '/content/drive/MyDrive/Image Dehazing for Video surveillance/dataset/test/gt/'"
      ],
      "metadata": {
        "id": "CiXCWl7HJHrj"
      },
      "execution_count": null,
      "outputs": []
    },
    {
      "cell_type": "code",
      "source": [
        "targ_files = sorted(os.listdir(targ_dir))\n",
        "gt_files = sorted(os.listdir(gt_dir))\n",
        "targ_files = [targ_dir + x for x in targ_files]\n",
        "gt_files = [gt_dir + x for x in gt_files]\n",
        "\n",
        "norm_targ_files = sorted(os.listdir(norm_targ_dir))\n",
        "norm_targ_files = [norm_targ_dir + x for x in norm_targ_files]\n",
        "\n",
        "gimp_targ_files = sorted(os.listdir(gimp_targ_dir))\n",
        "gimp_targ_files = [gimp_targ_dir + x for x in gimp_targ_files]\n",
        "\n",
        "dcp_targ_files = sorted(os.listdir(dcp_targ_dir))\n",
        "dcp_targ_files = [dcp_targ_dir + x for x in dcp_targ_files]\n",
        "\n",
        "print(len(targ_files), len(gt_files))"
      ],
      "metadata": {
        "colab": {
          "base_uri": "https://localhost:8080/"
        },
        "id": "ShuxFl82JmwD",
        "outputId": "8ff78c63-44f4-4518-cc3b-0926d7ee73c4"
      },
      "execution_count": null,
      "outputs": [
        {
          "output_type": "stream",
          "name": "stdout",
          "text": [
            "289 289\n"
          ]
        }
      ]
    },
    {
      "cell_type": "code",
      "source": [
        "print(targ_files)"
      ],
      "metadata": {
        "id": "w6OrVIe6KNhw",
        "colab": {
          "base_uri": "https://localhost:8080/"
        },
        "outputId": "3c4d9cf6-0263-43c6-bd95-7f207beb997a"
      },
      "execution_count": null,
      "outputs": [
        {
          "output_type": "stream",
          "name": "stdout",
          "text": [
            "['/content/drive/MyDrive/Image Dehazing for Video surveillance/executions/experiment_100_1/results/test_00000.png', '/content/drive/MyDrive/Image Dehazing for Video surveillance/executions/experiment_100_1/results/test_00001.png', '/content/drive/MyDrive/Image Dehazing for Video surveillance/executions/experiment_100_1/results/test_00002.png', '/content/drive/MyDrive/Image Dehazing for Video surveillance/executions/experiment_100_1/results/test_00003.png', '/content/drive/MyDrive/Image Dehazing for Video surveillance/executions/experiment_100_1/results/test_00004.png', '/content/drive/MyDrive/Image Dehazing for Video surveillance/executions/experiment_100_1/results/test_00005.png', '/content/drive/MyDrive/Image Dehazing for Video surveillance/executions/experiment_100_1/results/test_00006.png', '/content/drive/MyDrive/Image Dehazing for Video surveillance/executions/experiment_100_1/results/test_00007.png', '/content/drive/MyDrive/Image Dehazing for Video surveillance/executions/experiment_100_1/results/test_00008.png', '/content/drive/MyDrive/Image Dehazing for Video surveillance/executions/experiment_100_1/results/test_00009.png', '/content/drive/MyDrive/Image Dehazing for Video surveillance/executions/experiment_100_1/results/test_00010.png', '/content/drive/MyDrive/Image Dehazing for Video surveillance/executions/experiment_100_1/results/test_00011.png', '/content/drive/MyDrive/Image Dehazing for Video surveillance/executions/experiment_100_1/results/test_00012.png', '/content/drive/MyDrive/Image Dehazing for Video surveillance/executions/experiment_100_1/results/test_00013.png', '/content/drive/MyDrive/Image Dehazing for Video surveillance/executions/experiment_100_1/results/test_00014.png', '/content/drive/MyDrive/Image Dehazing for Video surveillance/executions/experiment_100_1/results/test_00015.png', '/content/drive/MyDrive/Image Dehazing for Video surveillance/executions/experiment_100_1/results/test_00016.png', '/content/drive/MyDrive/Image Dehazing for Video surveillance/executions/experiment_100_1/results/test_00017.png', '/content/drive/MyDrive/Image Dehazing for Video surveillance/executions/experiment_100_1/results/test_00018.png', '/content/drive/MyDrive/Image Dehazing for Video surveillance/executions/experiment_100_1/results/test_00019.png', '/content/drive/MyDrive/Image Dehazing for Video surveillance/executions/experiment_100_1/results/test_00020.png', '/content/drive/MyDrive/Image Dehazing for Video surveillance/executions/experiment_100_1/results/test_00021.png', '/content/drive/MyDrive/Image Dehazing for Video surveillance/executions/experiment_100_1/results/test_00022.png', '/content/drive/MyDrive/Image Dehazing for Video surveillance/executions/experiment_100_1/results/test_00023.png', '/content/drive/MyDrive/Image Dehazing for Video surveillance/executions/experiment_100_1/results/test_00024.png', '/content/drive/MyDrive/Image Dehazing for Video surveillance/executions/experiment_100_1/results/test_00025.png', '/content/drive/MyDrive/Image Dehazing for Video surveillance/executions/experiment_100_1/results/test_00026.png', '/content/drive/MyDrive/Image Dehazing for Video surveillance/executions/experiment_100_1/results/test_00027.png', '/content/drive/MyDrive/Image Dehazing for Video surveillance/executions/experiment_100_1/results/test_00028.png', '/content/drive/MyDrive/Image Dehazing for Video surveillance/executions/experiment_100_1/results/test_00029.png', '/content/drive/MyDrive/Image Dehazing for Video surveillance/executions/experiment_100_1/results/test_00030.png', '/content/drive/MyDrive/Image Dehazing for Video surveillance/executions/experiment_100_1/results/test_00031.png', '/content/drive/MyDrive/Image Dehazing for Video surveillance/executions/experiment_100_1/results/test_00032.png', '/content/drive/MyDrive/Image Dehazing for Video surveillance/executions/experiment_100_1/results/test_00033.png', '/content/drive/MyDrive/Image Dehazing for Video surveillance/executions/experiment_100_1/results/test_00034.png', '/content/drive/MyDrive/Image Dehazing for Video surveillance/executions/experiment_100_1/results/test_00035.png', '/content/drive/MyDrive/Image Dehazing for Video surveillance/executions/experiment_100_1/results/test_00036.png', '/content/drive/MyDrive/Image Dehazing for Video surveillance/executions/experiment_100_1/results/test_00037.png', '/content/drive/MyDrive/Image Dehazing for Video surveillance/executions/experiment_100_1/results/test_00038.png', '/content/drive/MyDrive/Image Dehazing for Video surveillance/executions/experiment_100_1/results/test_00039.png', '/content/drive/MyDrive/Image Dehazing for Video surveillance/executions/experiment_100_1/results/test_00040.png', '/content/drive/MyDrive/Image Dehazing for Video surveillance/executions/experiment_100_1/results/test_00041.png', '/content/drive/MyDrive/Image Dehazing for Video surveillance/executions/experiment_100_1/results/test_00042.png', '/content/drive/MyDrive/Image Dehazing for Video surveillance/executions/experiment_100_1/results/test_00043.png', '/content/drive/MyDrive/Image Dehazing for Video surveillance/executions/experiment_100_1/results/test_00044.png', '/content/drive/MyDrive/Image Dehazing for Video surveillance/executions/experiment_100_1/results/test_00045.png', '/content/drive/MyDrive/Image Dehazing for Video surveillance/executions/experiment_100_1/results/test_00046.png', '/content/drive/MyDrive/Image Dehazing for Video surveillance/executions/experiment_100_1/results/test_00047.png', '/content/drive/MyDrive/Image Dehazing for Video surveillance/executions/experiment_100_1/results/test_00048.png', '/content/drive/MyDrive/Image Dehazing for Video surveillance/executions/experiment_100_1/results/test_00049.png', '/content/drive/MyDrive/Image Dehazing for Video surveillance/executions/experiment_100_1/results/test_00050.png', '/content/drive/MyDrive/Image Dehazing for Video surveillance/executions/experiment_100_1/results/test_00051.png', '/content/drive/MyDrive/Image Dehazing for Video surveillance/executions/experiment_100_1/results/test_00052.png', '/content/drive/MyDrive/Image Dehazing for Video surveillance/executions/experiment_100_1/results/test_00053.png', '/content/drive/MyDrive/Image Dehazing for Video surveillance/executions/experiment_100_1/results/test_00054.png', '/content/drive/MyDrive/Image Dehazing for Video surveillance/executions/experiment_100_1/results/test_00055.png', '/content/drive/MyDrive/Image Dehazing for Video surveillance/executions/experiment_100_1/results/test_00056.png', '/content/drive/MyDrive/Image Dehazing for Video surveillance/executions/experiment_100_1/results/test_00057.png', '/content/drive/MyDrive/Image Dehazing for Video surveillance/executions/experiment_100_1/results/test_00058.png', '/content/drive/MyDrive/Image Dehazing for Video surveillance/executions/experiment_100_1/results/test_00059.png', '/content/drive/MyDrive/Image Dehazing for Video surveillance/executions/experiment_100_1/results/test_00060.png', '/content/drive/MyDrive/Image Dehazing for Video surveillance/executions/experiment_100_1/results/test_00061.png', '/content/drive/MyDrive/Image Dehazing for Video surveillance/executions/experiment_100_1/results/test_00062.png', '/content/drive/MyDrive/Image Dehazing for Video surveillance/executions/experiment_100_1/results/test_00063.png', '/content/drive/MyDrive/Image Dehazing for Video surveillance/executions/experiment_100_1/results/test_00064.png', '/content/drive/MyDrive/Image Dehazing for Video surveillance/executions/experiment_100_1/results/test_00065.png', '/content/drive/MyDrive/Image Dehazing for Video surveillance/executions/experiment_100_1/results/test_00066.png', '/content/drive/MyDrive/Image Dehazing for Video surveillance/executions/experiment_100_1/results/test_00067.png', '/content/drive/MyDrive/Image Dehazing for Video surveillance/executions/experiment_100_1/results/test_00068.png', '/content/drive/MyDrive/Image Dehazing for Video surveillance/executions/experiment_100_1/results/test_00069.png', '/content/drive/MyDrive/Image Dehazing for Video surveillance/executions/experiment_100_1/results/test_00070.png', '/content/drive/MyDrive/Image Dehazing for Video surveillance/executions/experiment_100_1/results/test_00071.png', '/content/drive/MyDrive/Image Dehazing for Video surveillance/executions/experiment_100_1/results/test_00072.png', '/content/drive/MyDrive/Image Dehazing for Video surveillance/executions/experiment_100_1/results/test_00073.png', '/content/drive/MyDrive/Image Dehazing for Video surveillance/executions/experiment_100_1/results/test_00074.png', '/content/drive/MyDrive/Image Dehazing for Video surveillance/executions/experiment_100_1/results/test_00075.png', '/content/drive/MyDrive/Image Dehazing for Video surveillance/executions/experiment_100_1/results/test_00076.png', '/content/drive/MyDrive/Image Dehazing for Video surveillance/executions/experiment_100_1/results/test_00077.png', '/content/drive/MyDrive/Image Dehazing for Video surveillance/executions/experiment_100_1/results/test_00078.png', '/content/drive/MyDrive/Image Dehazing for Video surveillance/executions/experiment_100_1/results/test_00079.png', '/content/drive/MyDrive/Image Dehazing for Video surveillance/executions/experiment_100_1/results/test_00080.png', '/content/drive/MyDrive/Image Dehazing for Video surveillance/executions/experiment_100_1/results/test_00081.png', '/content/drive/MyDrive/Image Dehazing for Video surveillance/executions/experiment_100_1/results/test_00082.png', '/content/drive/MyDrive/Image Dehazing for Video surveillance/executions/experiment_100_1/results/test_00083.png', '/content/drive/MyDrive/Image Dehazing for Video surveillance/executions/experiment_100_1/results/test_00084.png', '/content/drive/MyDrive/Image Dehazing for Video surveillance/executions/experiment_100_1/results/test_00085.png', '/content/drive/MyDrive/Image Dehazing for Video surveillance/executions/experiment_100_1/results/test_00086.png', '/content/drive/MyDrive/Image Dehazing for Video surveillance/executions/experiment_100_1/results/test_00087.png', '/content/drive/MyDrive/Image Dehazing for Video surveillance/executions/experiment_100_1/results/test_00088.png', '/content/drive/MyDrive/Image Dehazing for Video surveillance/executions/experiment_100_1/results/test_00089.png', '/content/drive/MyDrive/Image Dehazing for Video surveillance/executions/experiment_100_1/results/test_00090.png', '/content/drive/MyDrive/Image Dehazing for Video surveillance/executions/experiment_100_1/results/test_00091.png', '/content/drive/MyDrive/Image Dehazing for Video surveillance/executions/experiment_100_1/results/test_00092.png', '/content/drive/MyDrive/Image Dehazing for Video surveillance/executions/experiment_100_1/results/test_00093.png', '/content/drive/MyDrive/Image Dehazing for Video surveillance/executions/experiment_100_1/results/test_00094.png', '/content/drive/MyDrive/Image Dehazing for Video surveillance/executions/experiment_100_1/results/test_00095.png', '/content/drive/MyDrive/Image Dehazing for Video surveillance/executions/experiment_100_1/results/test_00096.png', '/content/drive/MyDrive/Image Dehazing for Video surveillance/executions/experiment_100_1/results/test_00097.png', '/content/drive/MyDrive/Image Dehazing for Video surveillance/executions/experiment_100_1/results/test_00098.png', '/content/drive/MyDrive/Image Dehazing for Video surveillance/executions/experiment_100_1/results/test_00099.png', '/content/drive/MyDrive/Image Dehazing for Video surveillance/executions/experiment_100_1/results/test_00100.png', '/content/drive/MyDrive/Image Dehazing for Video surveillance/executions/experiment_100_1/results/test_00101.png', '/content/drive/MyDrive/Image Dehazing for Video surveillance/executions/experiment_100_1/results/test_00102.png', '/content/drive/MyDrive/Image Dehazing for Video surveillance/executions/experiment_100_1/results/test_00103.png', '/content/drive/MyDrive/Image Dehazing for Video surveillance/executions/experiment_100_1/results/test_00104.png', '/content/drive/MyDrive/Image Dehazing for Video surveillance/executions/experiment_100_1/results/test_00105.png', '/content/drive/MyDrive/Image Dehazing for Video surveillance/executions/experiment_100_1/results/test_00106.png', '/content/drive/MyDrive/Image Dehazing for Video surveillance/executions/experiment_100_1/results/test_00107.png', '/content/drive/MyDrive/Image Dehazing for Video surveillance/executions/experiment_100_1/results/test_00108.png', '/content/drive/MyDrive/Image Dehazing for Video surveillance/executions/experiment_100_1/results/test_00109.png', '/content/drive/MyDrive/Image Dehazing for Video surveillance/executions/experiment_100_1/results/test_00110.png', '/content/drive/MyDrive/Image Dehazing for Video surveillance/executions/experiment_100_1/results/test_00111.png', '/content/drive/MyDrive/Image Dehazing for Video surveillance/executions/experiment_100_1/results/test_00112.png', '/content/drive/MyDrive/Image Dehazing for Video surveillance/executions/experiment_100_1/results/test_00113.png', '/content/drive/MyDrive/Image Dehazing for Video surveillance/executions/experiment_100_1/results/test_00114.png', '/content/drive/MyDrive/Image Dehazing for Video surveillance/executions/experiment_100_1/results/test_00115.png', '/content/drive/MyDrive/Image Dehazing for Video surveillance/executions/experiment_100_1/results/test_00116.png', '/content/drive/MyDrive/Image Dehazing for Video surveillance/executions/experiment_100_1/results/test_00117.png', '/content/drive/MyDrive/Image Dehazing for Video surveillance/executions/experiment_100_1/results/test_00118.png', '/content/drive/MyDrive/Image Dehazing for Video surveillance/executions/experiment_100_1/results/test_00119.png', '/content/drive/MyDrive/Image Dehazing for Video surveillance/executions/experiment_100_1/results/test_00120.png', '/content/drive/MyDrive/Image Dehazing for Video surveillance/executions/experiment_100_1/results/test_00121.png', '/content/drive/MyDrive/Image Dehazing for Video surveillance/executions/experiment_100_1/results/test_00122.png', '/content/drive/MyDrive/Image Dehazing for Video surveillance/executions/experiment_100_1/results/test_00123.png', '/content/drive/MyDrive/Image Dehazing for Video surveillance/executions/experiment_100_1/results/test_00124.png', '/content/drive/MyDrive/Image Dehazing for Video surveillance/executions/experiment_100_1/results/test_00125.png', '/content/drive/MyDrive/Image Dehazing for Video surveillance/executions/experiment_100_1/results/test_00126.png', '/content/drive/MyDrive/Image Dehazing for Video surveillance/executions/experiment_100_1/results/test_00127.png', '/content/drive/MyDrive/Image Dehazing for Video surveillance/executions/experiment_100_1/results/test_00128.png', '/content/drive/MyDrive/Image Dehazing for Video surveillance/executions/experiment_100_1/results/test_00129.png', '/content/drive/MyDrive/Image Dehazing for Video surveillance/executions/experiment_100_1/results/test_00130.png', '/content/drive/MyDrive/Image Dehazing for Video surveillance/executions/experiment_100_1/results/test_00131.png', '/content/drive/MyDrive/Image Dehazing for Video surveillance/executions/experiment_100_1/results/test_00132.png', '/content/drive/MyDrive/Image Dehazing for Video surveillance/executions/experiment_100_1/results/test_00133.png', '/content/drive/MyDrive/Image Dehazing for Video surveillance/executions/experiment_100_1/results/test_00134.png', '/content/drive/MyDrive/Image Dehazing for Video surveillance/executions/experiment_100_1/results/test_00135.png', '/content/drive/MyDrive/Image Dehazing for Video surveillance/executions/experiment_100_1/results/test_00136.png', '/content/drive/MyDrive/Image Dehazing for Video surveillance/executions/experiment_100_1/results/test_00137.png', '/content/drive/MyDrive/Image Dehazing for Video surveillance/executions/experiment_100_1/results/test_00138.png', '/content/drive/MyDrive/Image Dehazing for Video surveillance/executions/experiment_100_1/results/test_00139.png', '/content/drive/MyDrive/Image Dehazing for Video surveillance/executions/experiment_100_1/results/test_00140.png', '/content/drive/MyDrive/Image Dehazing for Video surveillance/executions/experiment_100_1/results/test_00141.png', '/content/drive/MyDrive/Image Dehazing for Video surveillance/executions/experiment_100_1/results/test_00142.png', '/content/drive/MyDrive/Image Dehazing for Video surveillance/executions/experiment_100_1/results/test_00143.png', '/content/drive/MyDrive/Image Dehazing for Video surveillance/executions/experiment_100_1/results/test_00144.png', '/content/drive/MyDrive/Image Dehazing for Video surveillance/executions/experiment_100_1/results/test_00145.png', '/content/drive/MyDrive/Image Dehazing for Video surveillance/executions/experiment_100_1/results/test_00146.png', '/content/drive/MyDrive/Image Dehazing for Video surveillance/executions/experiment_100_1/results/test_00147.png', '/content/drive/MyDrive/Image Dehazing for Video surveillance/executions/experiment_100_1/results/test_00148.png', '/content/drive/MyDrive/Image Dehazing for Video surveillance/executions/experiment_100_1/results/test_00149.png', '/content/drive/MyDrive/Image Dehazing for Video surveillance/executions/experiment_100_1/results/test_00150.png', '/content/drive/MyDrive/Image Dehazing for Video surveillance/executions/experiment_100_1/results/test_00151.png', '/content/drive/MyDrive/Image Dehazing for Video surveillance/executions/experiment_100_1/results/test_00152.png', '/content/drive/MyDrive/Image Dehazing for Video surveillance/executions/experiment_100_1/results/test_00153.png', '/content/drive/MyDrive/Image Dehazing for Video surveillance/executions/experiment_100_1/results/test_00154.png', '/content/drive/MyDrive/Image Dehazing for Video surveillance/executions/experiment_100_1/results/test_00155.png', '/content/drive/MyDrive/Image Dehazing for Video surveillance/executions/experiment_100_1/results/test_00156.png', '/content/drive/MyDrive/Image Dehazing for Video surveillance/executions/experiment_100_1/results/test_00157.png', '/content/drive/MyDrive/Image Dehazing for Video surveillance/executions/experiment_100_1/results/test_00158.png', '/content/drive/MyDrive/Image Dehazing for Video surveillance/executions/experiment_100_1/results/test_00159.png', '/content/drive/MyDrive/Image Dehazing for Video surveillance/executions/experiment_100_1/results/test_00160.png', '/content/drive/MyDrive/Image Dehazing for Video surveillance/executions/experiment_100_1/results/test_00161.png', '/content/drive/MyDrive/Image Dehazing for Video surveillance/executions/experiment_100_1/results/test_00162.png', '/content/drive/MyDrive/Image Dehazing for Video surveillance/executions/experiment_100_1/results/test_00163.png', '/content/drive/MyDrive/Image Dehazing for Video surveillance/executions/experiment_100_1/results/test_00164.png', '/content/drive/MyDrive/Image Dehazing for Video surveillance/executions/experiment_100_1/results/test_00165.png', '/content/drive/MyDrive/Image Dehazing for Video surveillance/executions/experiment_100_1/results/test_00166.png', '/content/drive/MyDrive/Image Dehazing for Video surveillance/executions/experiment_100_1/results/test_00167.png', '/content/drive/MyDrive/Image Dehazing for Video surveillance/executions/experiment_100_1/results/test_00168.png', '/content/drive/MyDrive/Image Dehazing for Video surveillance/executions/experiment_100_1/results/test_00169.png', '/content/drive/MyDrive/Image Dehazing for Video surveillance/executions/experiment_100_1/results/test_00170.png', '/content/drive/MyDrive/Image Dehazing for Video surveillance/executions/experiment_100_1/results/test_00171.png', '/content/drive/MyDrive/Image Dehazing for Video surveillance/executions/experiment_100_1/results/test_00172.png', '/content/drive/MyDrive/Image Dehazing for Video surveillance/executions/experiment_100_1/results/test_00173.png', '/content/drive/MyDrive/Image Dehazing for Video surveillance/executions/experiment_100_1/results/test_00174.png', '/content/drive/MyDrive/Image Dehazing for Video surveillance/executions/experiment_100_1/results/test_00175.png', '/content/drive/MyDrive/Image Dehazing for Video surveillance/executions/experiment_100_1/results/test_00176.png', '/content/drive/MyDrive/Image Dehazing for Video surveillance/executions/experiment_100_1/results/test_00177.png', '/content/drive/MyDrive/Image Dehazing for Video surveillance/executions/experiment_100_1/results/test_00178.png', '/content/drive/MyDrive/Image Dehazing for Video surveillance/executions/experiment_100_1/results/test_00179.png', '/content/drive/MyDrive/Image Dehazing for Video surveillance/executions/experiment_100_1/results/test_00180.png', '/content/drive/MyDrive/Image Dehazing for Video surveillance/executions/experiment_100_1/results/test_00181.png', '/content/drive/MyDrive/Image Dehazing for Video surveillance/executions/experiment_100_1/results/test_00182.png', '/content/drive/MyDrive/Image Dehazing for Video surveillance/executions/experiment_100_1/results/test_00183.png', '/content/drive/MyDrive/Image Dehazing for Video surveillance/executions/experiment_100_1/results/test_00184.png', '/content/drive/MyDrive/Image Dehazing for Video surveillance/executions/experiment_100_1/results/test_00185.png', '/content/drive/MyDrive/Image Dehazing for Video surveillance/executions/experiment_100_1/results/test_00186.png', '/content/drive/MyDrive/Image Dehazing for Video surveillance/executions/experiment_100_1/results/test_00187.png', '/content/drive/MyDrive/Image Dehazing for Video surveillance/executions/experiment_100_1/results/test_00188.png', '/content/drive/MyDrive/Image Dehazing for Video surveillance/executions/experiment_100_1/results/test_00189.png', '/content/drive/MyDrive/Image Dehazing for Video surveillance/executions/experiment_100_1/results/test_00190.png', '/content/drive/MyDrive/Image Dehazing for Video surveillance/executions/experiment_100_1/results/test_00191.png', '/content/drive/MyDrive/Image Dehazing for Video surveillance/executions/experiment_100_1/results/test_00192.png', '/content/drive/MyDrive/Image Dehazing for Video surveillance/executions/experiment_100_1/results/test_00193.png', '/content/drive/MyDrive/Image Dehazing for Video surveillance/executions/experiment_100_1/results/test_00194.png', '/content/drive/MyDrive/Image Dehazing for Video surveillance/executions/experiment_100_1/results/test_00195.png', '/content/drive/MyDrive/Image Dehazing for Video surveillance/executions/experiment_100_1/results/test_00196.png', '/content/drive/MyDrive/Image Dehazing for Video surveillance/executions/experiment_100_1/results/test_00197.png', '/content/drive/MyDrive/Image Dehazing for Video surveillance/executions/experiment_100_1/results/test_00198.png', '/content/drive/MyDrive/Image Dehazing for Video surveillance/executions/experiment_100_1/results/test_00199.png', '/content/drive/MyDrive/Image Dehazing for Video surveillance/executions/experiment_100_1/results/test_00200.png', '/content/drive/MyDrive/Image Dehazing for Video surveillance/executions/experiment_100_1/results/test_00201.png', '/content/drive/MyDrive/Image Dehazing for Video surveillance/executions/experiment_100_1/results/test_00202.png', '/content/drive/MyDrive/Image Dehazing for Video surveillance/executions/experiment_100_1/results/test_00203.png', '/content/drive/MyDrive/Image Dehazing for Video surveillance/executions/experiment_100_1/results/test_00204.png', '/content/drive/MyDrive/Image Dehazing for Video surveillance/executions/experiment_100_1/results/test_00205.png', '/content/drive/MyDrive/Image Dehazing for Video surveillance/executions/experiment_100_1/results/test_00206.png', '/content/drive/MyDrive/Image Dehazing for Video surveillance/executions/experiment_100_1/results/test_00207.png', '/content/drive/MyDrive/Image Dehazing for Video surveillance/executions/experiment_100_1/results/test_00208.png', '/content/drive/MyDrive/Image Dehazing for Video surveillance/executions/experiment_100_1/results/test_00209.png', '/content/drive/MyDrive/Image Dehazing for Video surveillance/executions/experiment_100_1/results/test_00210.png', '/content/drive/MyDrive/Image Dehazing for Video surveillance/executions/experiment_100_1/results/test_00211.png', '/content/drive/MyDrive/Image Dehazing for Video surveillance/executions/experiment_100_1/results/test_00212.png', '/content/drive/MyDrive/Image Dehazing for Video surveillance/executions/experiment_100_1/results/test_00213.png', '/content/drive/MyDrive/Image Dehazing for Video surveillance/executions/experiment_100_1/results/test_00214.png', '/content/drive/MyDrive/Image Dehazing for Video surveillance/executions/experiment_100_1/results/test_00215.png', '/content/drive/MyDrive/Image Dehazing for Video surveillance/executions/experiment_100_1/results/test_00216.png', '/content/drive/MyDrive/Image Dehazing for Video surveillance/executions/experiment_100_1/results/test_00217.png', '/content/drive/MyDrive/Image Dehazing for Video surveillance/executions/experiment_100_1/results/test_00218.png', '/content/drive/MyDrive/Image Dehazing for Video surveillance/executions/experiment_100_1/results/test_00219.png', '/content/drive/MyDrive/Image Dehazing for Video surveillance/executions/experiment_100_1/results/test_00220.png', '/content/drive/MyDrive/Image Dehazing for Video surveillance/executions/experiment_100_1/results/test_00221.png', '/content/drive/MyDrive/Image Dehazing for Video surveillance/executions/experiment_100_1/results/test_00222.png', '/content/drive/MyDrive/Image Dehazing for Video surveillance/executions/experiment_100_1/results/test_00223.png', '/content/drive/MyDrive/Image Dehazing for Video surveillance/executions/experiment_100_1/results/test_00224.png', '/content/drive/MyDrive/Image Dehazing for Video surveillance/executions/experiment_100_1/results/test_00225.png', '/content/drive/MyDrive/Image Dehazing for Video surveillance/executions/experiment_100_1/results/test_00226.png', '/content/drive/MyDrive/Image Dehazing for Video surveillance/executions/experiment_100_1/results/test_00227.png', '/content/drive/MyDrive/Image Dehazing for Video surveillance/executions/experiment_100_1/results/test_00228.png', '/content/drive/MyDrive/Image Dehazing for Video surveillance/executions/experiment_100_1/results/test_00229.png', '/content/drive/MyDrive/Image Dehazing for Video surveillance/executions/experiment_100_1/results/test_00230.png', '/content/drive/MyDrive/Image Dehazing for Video surveillance/executions/experiment_100_1/results/test_00231.png', '/content/drive/MyDrive/Image Dehazing for Video surveillance/executions/experiment_100_1/results/test_00232.png', '/content/drive/MyDrive/Image Dehazing for Video surveillance/executions/experiment_100_1/results/test_00233.png', '/content/drive/MyDrive/Image Dehazing for Video surveillance/executions/experiment_100_1/results/test_00234.png', '/content/drive/MyDrive/Image Dehazing for Video surveillance/executions/experiment_100_1/results/test_00235.png', '/content/drive/MyDrive/Image Dehazing for Video surveillance/executions/experiment_100_1/results/test_00236.png', '/content/drive/MyDrive/Image Dehazing for Video surveillance/executions/experiment_100_1/results/test_00237.png', '/content/drive/MyDrive/Image Dehazing for Video surveillance/executions/experiment_100_1/results/test_00238.png', '/content/drive/MyDrive/Image Dehazing for Video surveillance/executions/experiment_100_1/results/test_00239.png', '/content/drive/MyDrive/Image Dehazing for Video surveillance/executions/experiment_100_1/results/test_00240.png', '/content/drive/MyDrive/Image Dehazing for Video surveillance/executions/experiment_100_1/results/test_00241.png', '/content/drive/MyDrive/Image Dehazing for Video surveillance/executions/experiment_100_1/results/test_00242.png', '/content/drive/MyDrive/Image Dehazing for Video surveillance/executions/experiment_100_1/results/test_00243.png', '/content/drive/MyDrive/Image Dehazing for Video surveillance/executions/experiment_100_1/results/test_00244.png', '/content/drive/MyDrive/Image Dehazing for Video surveillance/executions/experiment_100_1/results/test_00245.png', '/content/drive/MyDrive/Image Dehazing for Video surveillance/executions/experiment_100_1/results/test_00246.png', '/content/drive/MyDrive/Image Dehazing for Video surveillance/executions/experiment_100_1/results/test_00247.png', '/content/drive/MyDrive/Image Dehazing for Video surveillance/executions/experiment_100_1/results/test_00248.png', '/content/drive/MyDrive/Image Dehazing for Video surveillance/executions/experiment_100_1/results/test_00249.png', '/content/drive/MyDrive/Image Dehazing for Video surveillance/executions/experiment_100_1/results/test_00250.png', '/content/drive/MyDrive/Image Dehazing for Video surveillance/executions/experiment_100_1/results/test_00251.png', '/content/drive/MyDrive/Image Dehazing for Video surveillance/executions/experiment_100_1/results/test_00252.png', '/content/drive/MyDrive/Image Dehazing for Video surveillance/executions/experiment_100_1/results/test_00253.png', '/content/drive/MyDrive/Image Dehazing for Video surveillance/executions/experiment_100_1/results/test_00254.png', '/content/drive/MyDrive/Image Dehazing for Video surveillance/executions/experiment_100_1/results/test_00255.png', '/content/drive/MyDrive/Image Dehazing for Video surveillance/executions/experiment_100_1/results/test_00256.png', '/content/drive/MyDrive/Image Dehazing for Video surveillance/executions/experiment_100_1/results/test_00257.png', '/content/drive/MyDrive/Image Dehazing for Video surveillance/executions/experiment_100_1/results/test_00258.png', '/content/drive/MyDrive/Image Dehazing for Video surveillance/executions/experiment_100_1/results/test_00259.png', '/content/drive/MyDrive/Image Dehazing for Video surveillance/executions/experiment_100_1/results/test_00260.png', '/content/drive/MyDrive/Image Dehazing for Video surveillance/executions/experiment_100_1/results/test_00261.png', '/content/drive/MyDrive/Image Dehazing for Video surveillance/executions/experiment_100_1/results/test_00262.png', '/content/drive/MyDrive/Image Dehazing for Video surveillance/executions/experiment_100_1/results/test_00263.png', '/content/drive/MyDrive/Image Dehazing for Video surveillance/executions/experiment_100_1/results/test_00264.png', '/content/drive/MyDrive/Image Dehazing for Video surveillance/executions/experiment_100_1/results/test_00265.png', '/content/drive/MyDrive/Image Dehazing for Video surveillance/executions/experiment_100_1/results/test_00266.png', '/content/drive/MyDrive/Image Dehazing for Video surveillance/executions/experiment_100_1/results/test_00267.png', '/content/drive/MyDrive/Image Dehazing for Video surveillance/executions/experiment_100_1/results/test_00268.png', '/content/drive/MyDrive/Image Dehazing for Video surveillance/executions/experiment_100_1/results/test_00269.png', '/content/drive/MyDrive/Image Dehazing for Video surveillance/executions/experiment_100_1/results/test_00270.png', '/content/drive/MyDrive/Image Dehazing for Video surveillance/executions/experiment_100_1/results/test_00271.png', '/content/drive/MyDrive/Image Dehazing for Video surveillance/executions/experiment_100_1/results/test_00272.png', '/content/drive/MyDrive/Image Dehazing for Video surveillance/executions/experiment_100_1/results/test_00273.png', '/content/drive/MyDrive/Image Dehazing for Video surveillance/executions/experiment_100_1/results/test_00274.png', '/content/drive/MyDrive/Image Dehazing for Video surveillance/executions/experiment_100_1/results/test_00275.png', '/content/drive/MyDrive/Image Dehazing for Video surveillance/executions/experiment_100_1/results/test_00276.png', '/content/drive/MyDrive/Image Dehazing for Video surveillance/executions/experiment_100_1/results/test_00277.png', '/content/drive/MyDrive/Image Dehazing for Video surveillance/executions/experiment_100_1/results/test_00278.png', '/content/drive/MyDrive/Image Dehazing for Video surveillance/executions/experiment_100_1/results/test_00279.png', '/content/drive/MyDrive/Image Dehazing for Video surveillance/executions/experiment_100_1/results/test_00280.png', '/content/drive/MyDrive/Image Dehazing for Video surveillance/executions/experiment_100_1/results/test_00281.png', '/content/drive/MyDrive/Image Dehazing for Video surveillance/executions/experiment_100_1/results/test_00282.png', '/content/drive/MyDrive/Image Dehazing for Video surveillance/executions/experiment_100_1/results/test_00283.png', '/content/drive/MyDrive/Image Dehazing for Video surveillance/executions/experiment_100_1/results/test_00284.png', '/content/drive/MyDrive/Image Dehazing for Video surveillance/executions/experiment_100_1/results/test_00285.png', '/content/drive/MyDrive/Image Dehazing for Video surveillance/executions/experiment_100_1/results/test_00286.png', '/content/drive/MyDrive/Image Dehazing for Video surveillance/executions/experiment_100_1/results/test_00287.png', '/content/drive/MyDrive/Image Dehazing for Video surveillance/executions/experiment_100_1/results/test_00288.png']\n"
          ]
        }
      ]
    },
    {
      "cell_type": "code",
      "source": [
        "print(gt_files)"
      ],
      "metadata": {
        "id": "c8MUdnhiKSLI",
        "colab": {
          "base_uri": "https://localhost:8080/"
        },
        "outputId": "39934d5e-5e3d-4234-f32e-a0035711d797"
      },
      "execution_count": null,
      "outputs": [
        {
          "output_type": "stream",
          "name": "stdout",
          "text": [
            "['/content/drive/MyDrive/Image Dehazing for Video surveillance/dataset/test/gt/real_00000.png', '/content/drive/MyDrive/Image Dehazing for Video surveillance/dataset/test/gt/real_00001.png', '/content/drive/MyDrive/Image Dehazing for Video surveillance/dataset/test/gt/real_00002.png', '/content/drive/MyDrive/Image Dehazing for Video surveillance/dataset/test/gt/real_00003.png', '/content/drive/MyDrive/Image Dehazing for Video surveillance/dataset/test/gt/real_00004.png', '/content/drive/MyDrive/Image Dehazing for Video surveillance/dataset/test/gt/real_00005.png', '/content/drive/MyDrive/Image Dehazing for Video surveillance/dataset/test/gt/real_00006.png', '/content/drive/MyDrive/Image Dehazing for Video surveillance/dataset/test/gt/real_00007.png', '/content/drive/MyDrive/Image Dehazing for Video surveillance/dataset/test/gt/real_00008.png', '/content/drive/MyDrive/Image Dehazing for Video surveillance/dataset/test/gt/real_00009.png', '/content/drive/MyDrive/Image Dehazing for Video surveillance/dataset/test/gt/real_00010.png', '/content/drive/MyDrive/Image Dehazing for Video surveillance/dataset/test/gt/real_00011.png', '/content/drive/MyDrive/Image Dehazing for Video surveillance/dataset/test/gt/real_00012.png', '/content/drive/MyDrive/Image Dehazing for Video surveillance/dataset/test/gt/real_00013.png', '/content/drive/MyDrive/Image Dehazing for Video surveillance/dataset/test/gt/real_00014.png', '/content/drive/MyDrive/Image Dehazing for Video surveillance/dataset/test/gt/real_00015.png', '/content/drive/MyDrive/Image Dehazing for Video surveillance/dataset/test/gt/real_00016.png', '/content/drive/MyDrive/Image Dehazing for Video surveillance/dataset/test/gt/real_00017.png', '/content/drive/MyDrive/Image Dehazing for Video surveillance/dataset/test/gt/real_00018.png', '/content/drive/MyDrive/Image Dehazing for Video surveillance/dataset/test/gt/real_00019.png', '/content/drive/MyDrive/Image Dehazing for Video surveillance/dataset/test/gt/real_00020.png', '/content/drive/MyDrive/Image Dehazing for Video surveillance/dataset/test/gt/real_00021.png', '/content/drive/MyDrive/Image Dehazing for Video surveillance/dataset/test/gt/real_00022.png', '/content/drive/MyDrive/Image Dehazing for Video surveillance/dataset/test/gt/real_00023.png', '/content/drive/MyDrive/Image Dehazing for Video surveillance/dataset/test/gt/real_00024.png', '/content/drive/MyDrive/Image Dehazing for Video surveillance/dataset/test/gt/real_00025.png', '/content/drive/MyDrive/Image Dehazing for Video surveillance/dataset/test/gt/real_00026.png', '/content/drive/MyDrive/Image Dehazing for Video surveillance/dataset/test/gt/real_00027.png', '/content/drive/MyDrive/Image Dehazing for Video surveillance/dataset/test/gt/real_00028.png', '/content/drive/MyDrive/Image Dehazing for Video surveillance/dataset/test/gt/real_00029.png', '/content/drive/MyDrive/Image Dehazing for Video surveillance/dataset/test/gt/real_00030.png', '/content/drive/MyDrive/Image Dehazing for Video surveillance/dataset/test/gt/real_00031.png', '/content/drive/MyDrive/Image Dehazing for Video surveillance/dataset/test/gt/real_00032.png', '/content/drive/MyDrive/Image Dehazing for Video surveillance/dataset/test/gt/real_00033.png', '/content/drive/MyDrive/Image Dehazing for Video surveillance/dataset/test/gt/real_00034.png', '/content/drive/MyDrive/Image Dehazing for Video surveillance/dataset/test/gt/real_00035.png', '/content/drive/MyDrive/Image Dehazing for Video surveillance/dataset/test/gt/real_00036.png', '/content/drive/MyDrive/Image Dehazing for Video surveillance/dataset/test/gt/real_00037.png', '/content/drive/MyDrive/Image Dehazing for Video surveillance/dataset/test/gt/real_00038.png', '/content/drive/MyDrive/Image Dehazing for Video surveillance/dataset/test/gt/real_00039.png', '/content/drive/MyDrive/Image Dehazing for Video surveillance/dataset/test/gt/real_00040.png', '/content/drive/MyDrive/Image Dehazing for Video surveillance/dataset/test/gt/real_00041.png', '/content/drive/MyDrive/Image Dehazing for Video surveillance/dataset/test/gt/real_00042.png', '/content/drive/MyDrive/Image Dehazing for Video surveillance/dataset/test/gt/real_00043.png', '/content/drive/MyDrive/Image Dehazing for Video surveillance/dataset/test/gt/real_00044.png', '/content/drive/MyDrive/Image Dehazing for Video surveillance/dataset/test/gt/real_00045.png', '/content/drive/MyDrive/Image Dehazing for Video surveillance/dataset/test/gt/real_00046.png', '/content/drive/MyDrive/Image Dehazing for Video surveillance/dataset/test/gt/real_00047.png', '/content/drive/MyDrive/Image Dehazing for Video surveillance/dataset/test/gt/real_00048.png', '/content/drive/MyDrive/Image Dehazing for Video surveillance/dataset/test/gt/real_00049.png', '/content/drive/MyDrive/Image Dehazing for Video surveillance/dataset/test/gt/real_00050.png', '/content/drive/MyDrive/Image Dehazing for Video surveillance/dataset/test/gt/real_00051.png', '/content/drive/MyDrive/Image Dehazing for Video surveillance/dataset/test/gt/real_00052.png', '/content/drive/MyDrive/Image Dehazing for Video surveillance/dataset/test/gt/real_00053.png', '/content/drive/MyDrive/Image Dehazing for Video surveillance/dataset/test/gt/real_00054.png', '/content/drive/MyDrive/Image Dehazing for Video surveillance/dataset/test/gt/real_00055.png', '/content/drive/MyDrive/Image Dehazing for Video surveillance/dataset/test/gt/real_00056.png', '/content/drive/MyDrive/Image Dehazing for Video surveillance/dataset/test/gt/real_00057.png', '/content/drive/MyDrive/Image Dehazing for Video surveillance/dataset/test/gt/real_00058.png', '/content/drive/MyDrive/Image Dehazing for Video surveillance/dataset/test/gt/real_00059.png', '/content/drive/MyDrive/Image Dehazing for Video surveillance/dataset/test/gt/real_00060.png', '/content/drive/MyDrive/Image Dehazing for Video surveillance/dataset/test/gt/real_00061.png', '/content/drive/MyDrive/Image Dehazing for Video surveillance/dataset/test/gt/real_00062.png', '/content/drive/MyDrive/Image Dehazing for Video surveillance/dataset/test/gt/real_00063.png', '/content/drive/MyDrive/Image Dehazing for Video surveillance/dataset/test/gt/real_00064.png', '/content/drive/MyDrive/Image Dehazing for Video surveillance/dataset/test/gt/real_00065.png', '/content/drive/MyDrive/Image Dehazing for Video surveillance/dataset/test/gt/real_00066.png', '/content/drive/MyDrive/Image Dehazing for Video surveillance/dataset/test/gt/real_00067.png', '/content/drive/MyDrive/Image Dehazing for Video surveillance/dataset/test/gt/real_00068.png', '/content/drive/MyDrive/Image Dehazing for Video surveillance/dataset/test/gt/real_00069.png', '/content/drive/MyDrive/Image Dehazing for Video surveillance/dataset/test/gt/real_00070.png', '/content/drive/MyDrive/Image Dehazing for Video surveillance/dataset/test/gt/real_00071.png', '/content/drive/MyDrive/Image Dehazing for Video surveillance/dataset/test/gt/real_00072.png', '/content/drive/MyDrive/Image Dehazing for Video surveillance/dataset/test/gt/real_00073.png', '/content/drive/MyDrive/Image Dehazing for Video surveillance/dataset/test/gt/real_00074.png', '/content/drive/MyDrive/Image Dehazing for Video surveillance/dataset/test/gt/real_00075.png', '/content/drive/MyDrive/Image Dehazing for Video surveillance/dataset/test/gt/real_00076.png', '/content/drive/MyDrive/Image Dehazing for Video surveillance/dataset/test/gt/real_00077.png', '/content/drive/MyDrive/Image Dehazing for Video surveillance/dataset/test/gt/real_00078.png', '/content/drive/MyDrive/Image Dehazing for Video surveillance/dataset/test/gt/real_00079.png', '/content/drive/MyDrive/Image Dehazing for Video surveillance/dataset/test/gt/real_00080.png', '/content/drive/MyDrive/Image Dehazing for Video surveillance/dataset/test/gt/real_00081.png', '/content/drive/MyDrive/Image Dehazing for Video surveillance/dataset/test/gt/real_00082.png', '/content/drive/MyDrive/Image Dehazing for Video surveillance/dataset/test/gt/real_00083.png', '/content/drive/MyDrive/Image Dehazing for Video surveillance/dataset/test/gt/real_00084.png', '/content/drive/MyDrive/Image Dehazing for Video surveillance/dataset/test/gt/real_00085.png', '/content/drive/MyDrive/Image Dehazing for Video surveillance/dataset/test/gt/real_00086.png', '/content/drive/MyDrive/Image Dehazing for Video surveillance/dataset/test/gt/real_00087.png', '/content/drive/MyDrive/Image Dehazing for Video surveillance/dataset/test/gt/real_00088.png', '/content/drive/MyDrive/Image Dehazing for Video surveillance/dataset/test/gt/real_00089.png', '/content/drive/MyDrive/Image Dehazing for Video surveillance/dataset/test/gt/real_00090.png', '/content/drive/MyDrive/Image Dehazing for Video surveillance/dataset/test/gt/real_00091.png', '/content/drive/MyDrive/Image Dehazing for Video surveillance/dataset/test/gt/real_00092.png', '/content/drive/MyDrive/Image Dehazing for Video surveillance/dataset/test/gt/real_00093.png', '/content/drive/MyDrive/Image Dehazing for Video surveillance/dataset/test/gt/real_00094.png', '/content/drive/MyDrive/Image Dehazing for Video surveillance/dataset/test/gt/real_00095.png', '/content/drive/MyDrive/Image Dehazing for Video surveillance/dataset/test/gt/real_00096.png', '/content/drive/MyDrive/Image Dehazing for Video surveillance/dataset/test/gt/real_00097.png', '/content/drive/MyDrive/Image Dehazing for Video surveillance/dataset/test/gt/real_00098.png', '/content/drive/MyDrive/Image Dehazing for Video surveillance/dataset/test/gt/real_00099.png', '/content/drive/MyDrive/Image Dehazing for Video surveillance/dataset/test/gt/real_00100.png', '/content/drive/MyDrive/Image Dehazing for Video surveillance/dataset/test/gt/real_00101.png', '/content/drive/MyDrive/Image Dehazing for Video surveillance/dataset/test/gt/real_00102.png', '/content/drive/MyDrive/Image Dehazing for Video surveillance/dataset/test/gt/real_00103.png', '/content/drive/MyDrive/Image Dehazing for Video surveillance/dataset/test/gt/real_00104.png', '/content/drive/MyDrive/Image Dehazing for Video surveillance/dataset/test/gt/real_00105.png', '/content/drive/MyDrive/Image Dehazing for Video surveillance/dataset/test/gt/real_00106.png', '/content/drive/MyDrive/Image Dehazing for Video surveillance/dataset/test/gt/real_00107.png', '/content/drive/MyDrive/Image Dehazing for Video surveillance/dataset/test/gt/real_00108.png', '/content/drive/MyDrive/Image Dehazing for Video surveillance/dataset/test/gt/real_00109.png', '/content/drive/MyDrive/Image Dehazing for Video surveillance/dataset/test/gt/real_00110.png', '/content/drive/MyDrive/Image Dehazing for Video surveillance/dataset/test/gt/real_00111.png', '/content/drive/MyDrive/Image Dehazing for Video surveillance/dataset/test/gt/real_00112.png', '/content/drive/MyDrive/Image Dehazing for Video surveillance/dataset/test/gt/real_00113.png', '/content/drive/MyDrive/Image Dehazing for Video surveillance/dataset/test/gt/real_00114.png', '/content/drive/MyDrive/Image Dehazing for Video surveillance/dataset/test/gt/real_00115.png', '/content/drive/MyDrive/Image Dehazing for Video surveillance/dataset/test/gt/real_00116.png', '/content/drive/MyDrive/Image Dehazing for Video surveillance/dataset/test/gt/real_00117.png', '/content/drive/MyDrive/Image Dehazing for Video surveillance/dataset/test/gt/real_00118.png', '/content/drive/MyDrive/Image Dehazing for Video surveillance/dataset/test/gt/real_00119.png', '/content/drive/MyDrive/Image Dehazing for Video surveillance/dataset/test/gt/real_00120.png', '/content/drive/MyDrive/Image Dehazing for Video surveillance/dataset/test/gt/real_00121.png', '/content/drive/MyDrive/Image Dehazing for Video surveillance/dataset/test/gt/real_00122.png', '/content/drive/MyDrive/Image Dehazing for Video surveillance/dataset/test/gt/real_00123.png', '/content/drive/MyDrive/Image Dehazing for Video surveillance/dataset/test/gt/real_00124.png', '/content/drive/MyDrive/Image Dehazing for Video surveillance/dataset/test/gt/real_00125.png', '/content/drive/MyDrive/Image Dehazing for Video surveillance/dataset/test/gt/real_00126.png', '/content/drive/MyDrive/Image Dehazing for Video surveillance/dataset/test/gt/real_00127.png', '/content/drive/MyDrive/Image Dehazing for Video surveillance/dataset/test/gt/real_00128.png', '/content/drive/MyDrive/Image Dehazing for Video surveillance/dataset/test/gt/real_00129.png', '/content/drive/MyDrive/Image Dehazing for Video surveillance/dataset/test/gt/real_00130.png', '/content/drive/MyDrive/Image Dehazing for Video surveillance/dataset/test/gt/real_00131.png', '/content/drive/MyDrive/Image Dehazing for Video surveillance/dataset/test/gt/real_00132.png', '/content/drive/MyDrive/Image Dehazing for Video surveillance/dataset/test/gt/real_00133.png', '/content/drive/MyDrive/Image Dehazing for Video surveillance/dataset/test/gt/real_00134.png', '/content/drive/MyDrive/Image Dehazing for Video surveillance/dataset/test/gt/real_00135.png', '/content/drive/MyDrive/Image Dehazing for Video surveillance/dataset/test/gt/real_00136.png', '/content/drive/MyDrive/Image Dehazing for Video surveillance/dataset/test/gt/real_00137.png', '/content/drive/MyDrive/Image Dehazing for Video surveillance/dataset/test/gt/real_00138.png', '/content/drive/MyDrive/Image Dehazing for Video surveillance/dataset/test/gt/real_00139.png', '/content/drive/MyDrive/Image Dehazing for Video surveillance/dataset/test/gt/real_00140.png', '/content/drive/MyDrive/Image Dehazing for Video surveillance/dataset/test/gt/real_00141.png', '/content/drive/MyDrive/Image Dehazing for Video surveillance/dataset/test/gt/real_00142.png', '/content/drive/MyDrive/Image Dehazing for Video surveillance/dataset/test/gt/real_00143.png', '/content/drive/MyDrive/Image Dehazing for Video surveillance/dataset/test/gt/real_00144.png', '/content/drive/MyDrive/Image Dehazing for Video surveillance/dataset/test/gt/real_00145.png', '/content/drive/MyDrive/Image Dehazing for Video surveillance/dataset/test/gt/real_00146.png', '/content/drive/MyDrive/Image Dehazing for Video surveillance/dataset/test/gt/real_00147.png', '/content/drive/MyDrive/Image Dehazing for Video surveillance/dataset/test/gt/real_00148.png', '/content/drive/MyDrive/Image Dehazing for Video surveillance/dataset/test/gt/real_00149.png', '/content/drive/MyDrive/Image Dehazing for Video surveillance/dataset/test/gt/real_00150.png', '/content/drive/MyDrive/Image Dehazing for Video surveillance/dataset/test/gt/real_00151.png', '/content/drive/MyDrive/Image Dehazing for Video surveillance/dataset/test/gt/real_00152.png', '/content/drive/MyDrive/Image Dehazing for Video surveillance/dataset/test/gt/real_00153.png', '/content/drive/MyDrive/Image Dehazing for Video surveillance/dataset/test/gt/real_00154.png', '/content/drive/MyDrive/Image Dehazing for Video surveillance/dataset/test/gt/real_00155.png', '/content/drive/MyDrive/Image Dehazing for Video surveillance/dataset/test/gt/real_00156.png', '/content/drive/MyDrive/Image Dehazing for Video surveillance/dataset/test/gt/real_00157.png', '/content/drive/MyDrive/Image Dehazing for Video surveillance/dataset/test/gt/real_00158.png', '/content/drive/MyDrive/Image Dehazing for Video surveillance/dataset/test/gt/real_00159.png', '/content/drive/MyDrive/Image Dehazing for Video surveillance/dataset/test/gt/real_00160.png', '/content/drive/MyDrive/Image Dehazing for Video surveillance/dataset/test/gt/real_00161.png', '/content/drive/MyDrive/Image Dehazing for Video surveillance/dataset/test/gt/real_00162.png', '/content/drive/MyDrive/Image Dehazing for Video surveillance/dataset/test/gt/real_00163.png', '/content/drive/MyDrive/Image Dehazing for Video surveillance/dataset/test/gt/real_00164.png', '/content/drive/MyDrive/Image Dehazing for Video surveillance/dataset/test/gt/real_00165.png', '/content/drive/MyDrive/Image Dehazing for Video surveillance/dataset/test/gt/real_00166.png', '/content/drive/MyDrive/Image Dehazing for Video surveillance/dataset/test/gt/real_00167.png', '/content/drive/MyDrive/Image Dehazing for Video surveillance/dataset/test/gt/real_00168.png', '/content/drive/MyDrive/Image Dehazing for Video surveillance/dataset/test/gt/real_00169.png', '/content/drive/MyDrive/Image Dehazing for Video surveillance/dataset/test/gt/real_00170.png', '/content/drive/MyDrive/Image Dehazing for Video surveillance/dataset/test/gt/real_00171.png', '/content/drive/MyDrive/Image Dehazing for Video surveillance/dataset/test/gt/real_00172.png', '/content/drive/MyDrive/Image Dehazing for Video surveillance/dataset/test/gt/real_00173.png', '/content/drive/MyDrive/Image Dehazing for Video surveillance/dataset/test/gt/real_00174.png', '/content/drive/MyDrive/Image Dehazing for Video surveillance/dataset/test/gt/real_00175.png', '/content/drive/MyDrive/Image Dehazing for Video surveillance/dataset/test/gt/real_00176.png', '/content/drive/MyDrive/Image Dehazing for Video surveillance/dataset/test/gt/real_00177.png', '/content/drive/MyDrive/Image Dehazing for Video surveillance/dataset/test/gt/real_00178.png', '/content/drive/MyDrive/Image Dehazing for Video surveillance/dataset/test/gt/real_00179.png', '/content/drive/MyDrive/Image Dehazing for Video surveillance/dataset/test/gt/real_00180.png', '/content/drive/MyDrive/Image Dehazing for Video surveillance/dataset/test/gt/real_00181.png', '/content/drive/MyDrive/Image Dehazing for Video surveillance/dataset/test/gt/real_00182.png', '/content/drive/MyDrive/Image Dehazing for Video surveillance/dataset/test/gt/real_00183.png', '/content/drive/MyDrive/Image Dehazing for Video surveillance/dataset/test/gt/real_00184.png', '/content/drive/MyDrive/Image Dehazing for Video surveillance/dataset/test/gt/real_00185.png', '/content/drive/MyDrive/Image Dehazing for Video surveillance/dataset/test/gt/real_00186.png', '/content/drive/MyDrive/Image Dehazing for Video surveillance/dataset/test/gt/real_00187.png', '/content/drive/MyDrive/Image Dehazing for Video surveillance/dataset/test/gt/real_00188.png', '/content/drive/MyDrive/Image Dehazing for Video surveillance/dataset/test/gt/real_00189.png', '/content/drive/MyDrive/Image Dehazing for Video surveillance/dataset/test/gt/real_00190.png', '/content/drive/MyDrive/Image Dehazing for Video surveillance/dataset/test/gt/real_00191.png', '/content/drive/MyDrive/Image Dehazing for Video surveillance/dataset/test/gt/real_00192.png', '/content/drive/MyDrive/Image Dehazing for Video surveillance/dataset/test/gt/real_00193.png', '/content/drive/MyDrive/Image Dehazing for Video surveillance/dataset/test/gt/real_00194.png', '/content/drive/MyDrive/Image Dehazing for Video surveillance/dataset/test/gt/real_00195.png', '/content/drive/MyDrive/Image Dehazing for Video surveillance/dataset/test/gt/real_00196.png', '/content/drive/MyDrive/Image Dehazing for Video surveillance/dataset/test/gt/real_00197.png', '/content/drive/MyDrive/Image Dehazing for Video surveillance/dataset/test/gt/real_00198.png', '/content/drive/MyDrive/Image Dehazing for Video surveillance/dataset/test/gt/real_00199.png', '/content/drive/MyDrive/Image Dehazing for Video surveillance/dataset/test/gt/real_00200.png', '/content/drive/MyDrive/Image Dehazing for Video surveillance/dataset/test/gt/real_00201.png', '/content/drive/MyDrive/Image Dehazing for Video surveillance/dataset/test/gt/real_00202.png', '/content/drive/MyDrive/Image Dehazing for Video surveillance/dataset/test/gt/real_00203.png', '/content/drive/MyDrive/Image Dehazing for Video surveillance/dataset/test/gt/real_00204.png', '/content/drive/MyDrive/Image Dehazing for Video surveillance/dataset/test/gt/real_00205.png', '/content/drive/MyDrive/Image Dehazing for Video surveillance/dataset/test/gt/real_00206.png', '/content/drive/MyDrive/Image Dehazing for Video surveillance/dataset/test/gt/real_00207.png', '/content/drive/MyDrive/Image Dehazing for Video surveillance/dataset/test/gt/real_00208.png', '/content/drive/MyDrive/Image Dehazing for Video surveillance/dataset/test/gt/real_00209.png', '/content/drive/MyDrive/Image Dehazing for Video surveillance/dataset/test/gt/real_00210.png', '/content/drive/MyDrive/Image Dehazing for Video surveillance/dataset/test/gt/real_00211.png', '/content/drive/MyDrive/Image Dehazing for Video surveillance/dataset/test/gt/real_00212.png', '/content/drive/MyDrive/Image Dehazing for Video surveillance/dataset/test/gt/real_00213.png', '/content/drive/MyDrive/Image Dehazing for Video surveillance/dataset/test/gt/real_00214.png', '/content/drive/MyDrive/Image Dehazing for Video surveillance/dataset/test/gt/real_00215.png', '/content/drive/MyDrive/Image Dehazing for Video surveillance/dataset/test/gt/real_00216.png', '/content/drive/MyDrive/Image Dehazing for Video surveillance/dataset/test/gt/real_00217.png', '/content/drive/MyDrive/Image Dehazing for Video surveillance/dataset/test/gt/real_00218.png', '/content/drive/MyDrive/Image Dehazing for Video surveillance/dataset/test/gt/real_00219.png', '/content/drive/MyDrive/Image Dehazing for Video surveillance/dataset/test/gt/real_00220.png', '/content/drive/MyDrive/Image Dehazing for Video surveillance/dataset/test/gt/real_00221.png', '/content/drive/MyDrive/Image Dehazing for Video surveillance/dataset/test/gt/real_00222.png', '/content/drive/MyDrive/Image Dehazing for Video surveillance/dataset/test/gt/real_00223.png', '/content/drive/MyDrive/Image Dehazing for Video surveillance/dataset/test/gt/real_00224.png', '/content/drive/MyDrive/Image Dehazing for Video surveillance/dataset/test/gt/real_00225.png', '/content/drive/MyDrive/Image Dehazing for Video surveillance/dataset/test/gt/real_00226.png', '/content/drive/MyDrive/Image Dehazing for Video surveillance/dataset/test/gt/real_00227.png', '/content/drive/MyDrive/Image Dehazing for Video surveillance/dataset/test/gt/real_00228.png', '/content/drive/MyDrive/Image Dehazing for Video surveillance/dataset/test/gt/real_00229.png', '/content/drive/MyDrive/Image Dehazing for Video surveillance/dataset/test/gt/real_00230.png', '/content/drive/MyDrive/Image Dehazing for Video surveillance/dataset/test/gt/real_00231.png', '/content/drive/MyDrive/Image Dehazing for Video surveillance/dataset/test/gt/real_00232.png', '/content/drive/MyDrive/Image Dehazing for Video surveillance/dataset/test/gt/real_00233.png', '/content/drive/MyDrive/Image Dehazing for Video surveillance/dataset/test/gt/real_00234.png', '/content/drive/MyDrive/Image Dehazing for Video surveillance/dataset/test/gt/real_00235.png', '/content/drive/MyDrive/Image Dehazing for Video surveillance/dataset/test/gt/real_00236.png', '/content/drive/MyDrive/Image Dehazing for Video surveillance/dataset/test/gt/real_00237.png', '/content/drive/MyDrive/Image Dehazing for Video surveillance/dataset/test/gt/real_00238.png', '/content/drive/MyDrive/Image Dehazing for Video surveillance/dataset/test/gt/real_00239.png', '/content/drive/MyDrive/Image Dehazing for Video surveillance/dataset/test/gt/real_00240.png', '/content/drive/MyDrive/Image Dehazing for Video surveillance/dataset/test/gt/real_00241.png', '/content/drive/MyDrive/Image Dehazing for Video surveillance/dataset/test/gt/real_00242.png', '/content/drive/MyDrive/Image Dehazing for Video surveillance/dataset/test/gt/real_00243.png', '/content/drive/MyDrive/Image Dehazing for Video surveillance/dataset/test/gt/real_00244.png', '/content/drive/MyDrive/Image Dehazing for Video surveillance/dataset/test/gt/real_00245.png', '/content/drive/MyDrive/Image Dehazing for Video surveillance/dataset/test/gt/real_00246.png', '/content/drive/MyDrive/Image Dehazing for Video surveillance/dataset/test/gt/real_00247.png', '/content/drive/MyDrive/Image Dehazing for Video surveillance/dataset/test/gt/real_00248.png', '/content/drive/MyDrive/Image Dehazing for Video surveillance/dataset/test/gt/real_00249.png', '/content/drive/MyDrive/Image Dehazing for Video surveillance/dataset/test/gt/real_00250.png', '/content/drive/MyDrive/Image Dehazing for Video surveillance/dataset/test/gt/real_00251.png', '/content/drive/MyDrive/Image Dehazing for Video surveillance/dataset/test/gt/real_00252.png', '/content/drive/MyDrive/Image Dehazing for Video surveillance/dataset/test/gt/real_00253.png', '/content/drive/MyDrive/Image Dehazing for Video surveillance/dataset/test/gt/real_00254.png', '/content/drive/MyDrive/Image Dehazing for Video surveillance/dataset/test/gt/real_00255.png', '/content/drive/MyDrive/Image Dehazing for Video surveillance/dataset/test/gt/real_00256.png', '/content/drive/MyDrive/Image Dehazing for Video surveillance/dataset/test/gt/real_00257.png', '/content/drive/MyDrive/Image Dehazing for Video surveillance/dataset/test/gt/real_00258.png', '/content/drive/MyDrive/Image Dehazing for Video surveillance/dataset/test/gt/real_00259.png', '/content/drive/MyDrive/Image Dehazing for Video surveillance/dataset/test/gt/real_00260.png', '/content/drive/MyDrive/Image Dehazing for Video surveillance/dataset/test/gt/real_00261.png', '/content/drive/MyDrive/Image Dehazing for Video surveillance/dataset/test/gt/real_00262.png', '/content/drive/MyDrive/Image Dehazing for Video surveillance/dataset/test/gt/real_00263.png', '/content/drive/MyDrive/Image Dehazing for Video surveillance/dataset/test/gt/real_00264.png', '/content/drive/MyDrive/Image Dehazing for Video surveillance/dataset/test/gt/real_00265.png', '/content/drive/MyDrive/Image Dehazing for Video surveillance/dataset/test/gt/real_00266.png', '/content/drive/MyDrive/Image Dehazing for Video surveillance/dataset/test/gt/real_00267.png', '/content/drive/MyDrive/Image Dehazing for Video surveillance/dataset/test/gt/real_00268.png', '/content/drive/MyDrive/Image Dehazing for Video surveillance/dataset/test/gt/real_00269.png', '/content/drive/MyDrive/Image Dehazing for Video surveillance/dataset/test/gt/real_00270.png', '/content/drive/MyDrive/Image Dehazing for Video surveillance/dataset/test/gt/real_00271.png', '/content/drive/MyDrive/Image Dehazing for Video surveillance/dataset/test/gt/real_00272.png', '/content/drive/MyDrive/Image Dehazing for Video surveillance/dataset/test/gt/real_00273.png', '/content/drive/MyDrive/Image Dehazing for Video surveillance/dataset/test/gt/real_00274.png', '/content/drive/MyDrive/Image Dehazing for Video surveillance/dataset/test/gt/real_00275.png', '/content/drive/MyDrive/Image Dehazing for Video surveillance/dataset/test/gt/real_00276.png', '/content/drive/MyDrive/Image Dehazing for Video surveillance/dataset/test/gt/real_00277.png', '/content/drive/MyDrive/Image Dehazing for Video surveillance/dataset/test/gt/real_00278.png', '/content/drive/MyDrive/Image Dehazing for Video surveillance/dataset/test/gt/real_00279.png', '/content/drive/MyDrive/Image Dehazing for Video surveillance/dataset/test/gt/real_00280.png', '/content/drive/MyDrive/Image Dehazing for Video surveillance/dataset/test/gt/real_00281.png', '/content/drive/MyDrive/Image Dehazing for Video surveillance/dataset/test/gt/real_00282.png', '/content/drive/MyDrive/Image Dehazing for Video surveillance/dataset/test/gt/real_00283.png', '/content/drive/MyDrive/Image Dehazing for Video surveillance/dataset/test/gt/real_00284.png', '/content/drive/MyDrive/Image Dehazing for Video surveillance/dataset/test/gt/real_00285.png', '/content/drive/MyDrive/Image Dehazing for Video surveillance/dataset/test/gt/real_00286.png', '/content/drive/MyDrive/Image Dehazing for Video surveillance/dataset/test/gt/real_00287.png', '/content/drive/MyDrive/Image Dehazing for Video surveillance/dataset/test/gt/real_00288.png']\n"
          ]
        }
      ]
    },
    {
      "cell_type": "code",
      "source": [
        "methods = [\"Giacomo et. al\", \"With DCP Dehaze\", \"With Linear Contrast enhancement\", \"With GIMP Contrast enhancement\"]\n",
        "targ_paths = [targ_files, dcp_targ_files, norm_targ_files, gimp_targ_files]\n",
        "psnrs = []\n",
        "ssims = []"
      ],
      "metadata": {
        "id": "tR0xJ-abILoR"
      },
      "execution_count": null,
      "outputs": []
    },
    {
      "cell_type": "code",
      "source": [
        "def calc_metrics(gt_files, targ_files): \n",
        "    psnrs = []\n",
        "    ssims = []\n",
        "\n",
        "    for (gt_path, targ_path) in zip(gt_files, targ_files):\n",
        "        psnrs.append(calc_psnr(targ_path, gt_path))\n",
        "        ssims.append(calc_ssim(targ_path, gt_path))\n",
        "\n",
        "    psnr = sum(psnrs) / len(psnrs)\n",
        "    ssim = sum(ssims) / len(ssims)\n",
        "\n",
        "    return psnr, ssim"
      ],
      "metadata": {
        "id": "-JeG4_wCKZCH"
      },
      "execution_count": null,
      "outputs": []
    },
    {
      "cell_type": "code",
      "source": [
        "psnr, ssim = calc_metrics(gt_files, targ_files)"
      ],
      "metadata": {
        "colab": {
          "base_uri": "https://localhost:8080/"
        },
        "id": "OUmrrynqLElD",
        "outputId": "5033070b-8df2-4449-a170-0a2c7955c762"
      },
      "execution_count": null,
      "outputs": [
        {
          "output_type": "stream",
          "name": "stdout",
          "text": [
            "\n"
          ]
        }
      ]
    },
    {
      "cell_type": "code",
      "source": [
        "\n",
        "print(\"PSNR is \", psnr)\n",
        "print(\"SSIM is \", ssim)"
      ],
      "metadata": {
        "id": "VmIKXwuVMMVB",
        "colab": {
          "base_uri": "https://localhost:8080/"
        },
        "outputId": "84556887-9803-4080-f4ef-2e6895f7d8ae"
      },
      "execution_count": null,
      "outputs": [
        {
          "output_type": "stream",
          "name": "stdout",
          "text": [
            "PSNR is  31.767096103462453\n",
            "SSIM is  0.9148206245565047\n"
          ]
        }
      ]
    },
    {
      "cell_type": "code",
      "source": [
        "for targ_path in targ_paths: \n",
        "    psnr, ssim = calc_metrics(gt_files, targ_path)\n",
        "    psnrs.append(psnr)\n",
        "    ssims.append(ssim)"
      ],
      "metadata": {
        "id": "R2PqD2Y7Ltwb"
      },
      "execution_count": null,
      "outputs": []
    },
    {
      "cell_type": "code",
      "source": [
        "print(psnrs)\n",
        "print(ssims)"
      ],
      "metadata": {
        "colab": {
          "base_uri": "https://localhost:8080/"
        },
        "id": "kuX-cbFm9PO1",
        "outputId": "ef3a37b3-3163-4c62-b6ce-406dd1ec35d2"
      },
      "execution_count": null,
      "outputs": [
        {
          "output_type": "stream",
          "name": "stdout",
          "text": [
            "[31.767096103462453, 24.314113846280343, 28.013486817879755, 25.284639429143613]\n",
            "[0.9148206245565047, 0.805858692604287, 0.8929862015075668, 0.8907184982148268]\n"
          ]
        }
      ]
    },
    {
      "cell_type": "code",
      "source": [
        "!python -m pytorch_fid '/content/drive/MyDrive/Image Dehazing for Video surveillance/dataset/test/gt' '/content/drive/MyDrive/Image Dehazing for Video surveillance/executions/experiment_100_1/dcp_dehaze'"
      ],
      "metadata": {
        "id": "W8b_BQHd-3X-",
        "colab": {
          "base_uri": "https://localhost:8080/"
        },
        "outputId": "03e32b05-4640-45a6-8ed8-29eec39652ac"
      },
      "execution_count": null,
      "outputs": [
        {
          "output_type": "stream",
          "name": "stdout",
          "text": [
            "100% 6/6 [01:34<00:00, 15.73s/it]\n",
            "100% 6/6 [01:37<00:00, 16.31s/it]\n",
            "FID:  106.12775816530386\n"
          ]
        }
      ]
    },
    {
      "cell_type": "code",
      "source": [
        ""
      ],
      "metadata": {
        "id": "aKy6RdeM5m7-"
      },
      "execution_count": null,
      "outputs": []
    }
  ]
}